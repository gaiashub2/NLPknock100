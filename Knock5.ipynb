{
 "cells": [
  {
   "cell_type": "markdown",
   "metadata": {},
   "source": [
    "# 第5章: 係り受け解析"
   ]
  },
  {
   "cell_type": "markdown",
   "metadata": {},
   "source": [
    "夏目漱石の小説『吾輩は猫である』の文章（[neko.txt](http://www.cl.ecei.tohoku.ac.jp/nlp100/data/neko.txt)）をCaboChaを使って係り受け解析し，その結果をneko.txt.cabochaというファイルに保存せよ．このファイルを用いて，以下の問に対応するプログラムを実装せよ．"
   ]
  },
  {
   "cell_type": "markdown",
   "metadata": {},
   "source": [
    "## 40. 係り受け解析結果の読み込み（形態素）"
   ]
  },
  {
   "cell_type": "markdown",
   "metadata": {},
   "source": [
    "形態素を表すクラス<font color=\"red\" style=\"background-color:#FAF0E6\">Morph</font>を実装せよ．このクラスは表層形（<font color=\"red\" style=\"background-color:#FAF0E6\">surface</font>），基本形（<font color=\"red\" style=\"background-color:#FAF0E6\">base</font>），品詞（<font color=\"red\" style=\"background-color:#FAF0E6\">pos</font>），品詞細分類1（<font color=\"red\" style=\"background-color:#FAF0E6\">pos1</font>）をメンバ変数に持つこととする．さらに，CaboChaの解析結果（neko.txt.cabocha）を読み込み，各文を<font color=\"red\" style=\"background-color:#FAF0E6\">Morph</font>オブジェクトのリストとして表現し，3文目の形態素列を表示せよ．"
   ]
  },
  {
   "cell_type": "markdown",
   "metadata": {},
   "source": [
    "#### qiitaの答え\n",
    "```\n",
    "# coding: utf-8\n",
    "\n",
    "fname = 'hightemp.txt'\n",
    "count = 0\n",
    "with open(fname) as data_file:\n",
    "    for line in data_file:\n",
    "        count += 1\n",
    "print(count)\n",
    "```"
   ]
  },
  {
   "cell_type": "markdown",
   "metadata": {},
   "source": [
    "## 41. 係り受け解析結果の読み込み（文節・係り受け）"
   ]
  },
  {
   "cell_type": "markdown",
   "metadata": {},
   "source": [
    "40に加えて，文節を表すクラス<font color=\"red\" style=\"background-color:#FAF0E6\">Chunk</font>を実装せよ．このクラスは形態素（<font color=\"red\" style=\"background-color:#FAF0E6\">Morph</font>オブジェクト）のリスト（<font color=\"red\" style=\"background-color:#FAF0E6\">morphs</font>），係り先文節インデックス番号（<font color=\"red\" style=\"background-color:#FAF0E6\">dst</font>），係り元文節インデックス番号のリスト（<font color=\"red\" style=\"background-color:#FAF0E6\">srcs</font>）をメンバ変数に持つこととする．さらに，入力テキストのCaboChaの解析結果を読み込み，１文を<font color=\"red\" style=\"background-color:#FAF0E6\">Chunk</font>オブジェクトのリストとして表現し，8文目の文節の文字列と係り先を表示せよ．第5章の残りの問題では，ここで作ったプログラムを活用せよ．"
   ]
  },
  {
   "cell_type": "markdown",
   "metadata": {},
   "source": [
    "#### qiitaの答え\n",
    "```\n",
    "# coding: utf-8\n",
    "\n",
    "fname = 'hightemp.txt'\n",
    "count = 0\n",
    "with open(fname) as data_file:\n",
    "    for line in data_file:\n",
    "        count += 1\n",
    "print(count)\n",
    "```"
   ]
  },
  {
   "cell_type": "markdown",
   "metadata": {},
   "source": [
    "## 42. 係り元と係り先の文節の表示"
   ]
  },
  {
   "cell_type": "markdown",
   "metadata": {},
   "source": [
    "係り元の文節と係り先の文節のテキストをタブ区切り形式ですべて抽出せよ．ただし，句読点などの記号は出力しないようにせよ．"
   ]
  },
  {
   "cell_type": "markdown",
   "metadata": {},
   "source": [
    "#### qiitaの答え\n",
    "```\n",
    "# coding: utf-8\n",
    "\n",
    "fname = 'hightemp.txt'\n",
    "count = 0\n",
    "with open(fname) as data_file:\n",
    "    for line in data_file:\n",
    "        count += 1\n",
    "print(count)\n",
    "```"
   ]
  },
  {
   "cell_type": "markdown",
   "metadata": {},
   "source": [
    "## 43. 名詞を含む文節が動詞を含む文節に係るものを抽出"
   ]
  },
  {
   "cell_type": "markdown",
   "metadata": {},
   "source": [
    "名詞を含む文節が，動詞を含む文節に係るとき，これらをタブ区切り形式で抽出せよ．ただし，句読点などの記号は出力しないようにせよ．"
   ]
  },
  {
   "cell_type": "markdown",
   "metadata": {},
   "source": [
    "#### qiitaの答え\n",
    "```\n",
    "# coding: utf-8\n",
    "\n",
    "fname = 'hightemp.txt'\n",
    "count = 0\n",
    "with open(fname) as data_file:\n",
    "    for line in data_file:\n",
    "        count += 1\n",
    "print(count)\n",
    "```"
   ]
  },
  {
   "cell_type": "markdown",
   "metadata": {},
   "source": [
    "## 44. 係り受け木の可視化"
   ]
  },
  {
   "cell_type": "markdown",
   "metadata": {},
   "source": [
    "与えられた文の係り受け木を有向グラフとして可視化せよ．可視化には，係り受け木を[DOT言語](http://ja.wikipedia.org/wiki/DOT%E8%A8%80%E8%AA%9E)に変換し，[Graphviz](http://www.graphviz.org/)を用いるとよい．また，Pythonから有向グラフを直接的に可視化するには，[pydot](https://code.google.com/p/pydot/)を使うとよい．"
   ]
  },
  {
   "cell_type": "markdown",
   "metadata": {},
   "source": [
    "#### qiitaの答え\n",
    "```\n",
    "# coding: utf-8\n",
    "\n",
    "fname = 'hightemp.txt'\n",
    "count = 0\n",
    "with open(fname) as data_file:\n",
    "    for line in data_file:\n",
    "        count += 1\n",
    "print(count)\n",
    "```"
   ]
  },
  {
   "cell_type": "markdown",
   "metadata": {},
   "source": [
    "## 45. 動詞の格パターンの抽出"
   ]
  },
  {
   "cell_type": "markdown",
   "metadata": {},
   "source": [
    "今回用いている文章をコーパスと見なし，日本語の述語が取りうる格を調査したい． 動詞を述語，動詞に係っている文節の助詞を格と考え，述語と格をタブ区切り形式で出力せよ． ただし，出力は以下の仕様を満たすようにせよ．\n",
    "\n",
    "- 動詞を含む文節において，最左の動詞の基本形を述語とする\n",
    "- 述語に係る助詞を格とする\n",
    "- 述語に係る助詞（文節）が複数あるときは，すべての助詞をスペース区切りで辞書順に並べる\n",
    "\n",
    "「吾輩はここで始めて人間というものを見た」という例文（neko.txt.cabochaの8文目）を考える． この文は「始める」と「見る」の２つの動詞を含み，「始める」に係る文節は「ここで」，「見る」に係る文節は「吾輩は」と「ものを」と解析された場合は，次のような出力になるはずである．"
   ]
  },
  {
   "cell_type": "markdown",
   "metadata": {},
   "source": [
    "```\n",
    "始める    で\n",
    "見る    は    を\n",
    "```"
   ]
  },
  {
   "cell_type": "markdown",
   "metadata": {},
   "source": [
    "このプログラムの出力をファイルに保存し，以下の事項をUNIXコマンドを用いて確認せよ．\n",
    "\n",
    "- コーパス中で頻出する述語と格パターンの組み合わせ\n",
    "- 「する」「見る」「与える」という動詞の格パターン（コーパス中で出現頻度の高い順に並べよ）"
   ]
  },
  {
   "cell_type": "markdown",
   "metadata": {},
   "source": [
    "#### qiitaの答え\n",
    "```\n",
    "# coding: utf-8\n",
    "\n",
    "fname = 'hightemp.txt'\n",
    "count = 0\n",
    "with open(fname) as data_file:\n",
    "    for line in data_file:\n",
    "        count += 1\n",
    "print(count)\n",
    "```"
   ]
  }
 ],
 "metadata": {
  "kernelspec": {
   "display_name": "Python 3",
   "language": "python",
   "name": "python3"
  },
  "language_info": {
   "codemirror_mode": {
    "name": "ipython",
    "version": 3
   },
   "file_extension": ".py",
   "mimetype": "text/x-python",
   "name": "python",
   "nbconvert_exporter": "python",
   "pygments_lexer": "ipython3",
   "version": "3.6.1"
  }
 },
 "nbformat": 4,
 "nbformat_minor": 2
}
