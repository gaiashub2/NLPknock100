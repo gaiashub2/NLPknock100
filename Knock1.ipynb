{
 "cells": [
  {
   "cell_type": "markdown",
   "metadata": {},
   "source": [
    "# 第1章: 準備運動"
   ]
  },
  {
   "cell_type": "markdown",
   "metadata": {},
   "source": [
    "## 00. 文字列の逆順"
   ]
  },
  {
   "cell_type": "markdown",
   "metadata": {},
   "source": [
    "文字列\"stressed\"の文字を逆に（末尾から先頭に向かって）並べた文字列を得よ．"
   ]
  },
  {
   "cell_type": "code",
   "execution_count": 1,
   "metadata": {},
   "outputs": [
    {
     "name": "stdout",
     "output_type": "stream",
     "text": [
      "desserts\n"
     ]
    }
   ],
   "source": [
    "word00 = \"stressed\"\n",
    "result00 = word00[::-1]\n",
    "print(result00)"
   ]
  },
  {
   "cell_type": "markdown",
   "metadata": {},
   "source": [
    "#### qiitaの答え\n",
    "```\n",
    "# coding: utf-8\n",
    "target = u'stressed'\n",
    "result = target[::-1]\n",
    "print(result)\n",
    "```"
   ]
  },
  {
   "cell_type": "markdown",
   "metadata": {},
   "source": [
    "## 01. 「パタトクカシーー」"
   ]
  },
  {
   "cell_type": "markdown",
   "metadata": {},
   "source": [
    "「パタトクカシーー」という文字列の1,3,5,7文字目を取り出して連結した文字列を得よ．"
   ]
  },
  {
   "cell_type": "code",
   "execution_count": 2,
   "metadata": {},
   "outputs": [
    {
     "name": "stdout",
     "output_type": "stream",
     "text": [
      "パトカー\n"
     ]
    }
   ],
   "source": [
    "word01 = \"パタトクカシーー\"\n",
    "result01 = word01[::2]\n",
    "\n",
    "print(result01)"
   ]
  },
  {
   "cell_type": "markdown",
   "metadata": {},
   "source": [
    "#### qiitaの答え\n",
    "```\n",
    "# coding: utf-8\n",
    "target = u'パタトクカシーー'\n",
    "result = target[::2]\n",
    "print(result)\n",
    "```"
   ]
  },
  {
   "cell_type": "markdown",
   "metadata": {},
   "source": [
    "## 02. 「パトカー」＋「タクシー」＝「パタトクカシーー」"
   ]
  },
  {
   "cell_type": "markdown",
   "metadata": {},
   "source": [
    "「パトカー」＋「タクシー」の文字を先頭から交互に連結して文字列「パタトクカシーー」を得よ．"
   ]
  },
  {
   "cell_type": "code",
   "execution_count": 3,
   "metadata": {},
   "outputs": [
    {
     "name": "stdout",
     "output_type": "stream",
     "text": [
      "パタトクカシーー\n"
     ]
    }
   ],
   "source": [
    "word02a = \"パトカー\"\n",
    "word02b = \"タクシー\"\n",
    "\n",
    "result02 = \"\"\n",
    "for i in range(len(word02a)):\n",
    "    result02 += word02a[i]\n",
    "    result02 += word02b[i]\n",
    "\n",
    "print(result02)"
   ]
  },
  {
   "cell_type": "markdown",
   "metadata": {},
   "source": [
    "#### qiitaの答え\n",
    "```\n",
    "# coding: utf-8\n",
    "target1 = 'パトカー'\n",
    "target2 = 'タクシー'\n",
    "result = ''\n",
    "for (a, b) in zip(target1, target2):\n",
    "    result += a + b\n",
    "print(result)\n",
    "```"
   ]
  },
  {
   "cell_type": "markdown",
   "metadata": {},
   "source": [
    "## 03. 円周率"
   ]
  },
  {
   "cell_type": "markdown",
   "metadata": {},
   "source": [
    "\"Now I need a drink, alcoholic of course, after the heavy lectures involving quantum mechanics.\"という文を単語に分解し，各単語の（アルファベットの）文字数を先頭から出現順に並べたリストを作成せよ．"
   ]
  },
  {
   "cell_type": "code",
   "execution_count": 4,
   "metadata": {},
   "outputs": [
    {
     "name": "stdout",
     "output_type": "stream",
     "text": [
      "Now I need a drink alcoholic of course after the heavy lectures involving quantum mechanics\n",
      "[3, 1, 4, 1, 5, 9, 2, 6, 5, 3, 5, 8, 9, 7, 9]\n"
     ]
    }
   ],
   "source": [
    "sen03 = \"Now I need a drink, alcoholic of course, after the heavy lectures involving quantum mechanics.\"\n",
    "\n",
    "#句読点の除去\n",
    "alphasen03 = sen03.replace(\",\",\"\").replace(\".\",\"\")\n",
    "print(alphasen03)\n",
    "\n",
    "wordlist03 = alphasen03.split(\" \")\n",
    "result03 = []\n",
    "\n",
    "for word in wordlist03:\n",
    "    result03.append(len(word))\n",
    "\n",
    "print(result03)"
   ]
  },
  {
   "cell_type": "markdown",
   "metadata": {},
   "source": [
    "#### qiitaの答え\n",
    "```\n",
    "# coding: utf-8\n",
    "target = 'Now I need a drink, alcoholic of course, after the heavy lectures involving quantum mechanics.'\n",
    "result = []\n",
    "\n",
    "words = target.split(' ')\n",
    "for word in words:\n",
    "    count = 0\n",
    "    for char in word:\n",
    "        if char.isalpha():\n",
    "            count += 1\n",
    "    result.append(count)\n",
    "\n",
    "print(result)\n",
    "```"
   ]
  },
  {
   "cell_type": "markdown",
   "metadata": {},
   "source": [
    "## 04. 元素記号"
   ]
  },
  {
   "cell_type": "markdown",
   "metadata": {},
   "source": [
    "\"Hi He Lied Because Boron Could Not Oxidize Fluorine. New Nations Might Also Sign Peace Security Clause. Arthur King Can.\"という文を単語に分解し，1, 5, 6, 7, 8, 9, 15, 16, 19番目の単語は先頭の1文字，それ以外の単語は先頭に2文字を取り出し，取り出した文字列から単語の位置（先頭から何番目の単語か）への連想配列（辞書型もしくはマップ型）を作成せよ．"
   ]
  },
  {
   "cell_type": "code",
   "execution_count": 5,
   "metadata": {
    "scrolled": true
   },
   "outputs": [
    {
     "name": "stdout",
     "output_type": "stream",
     "text": [
      "{'H': 1, 'He': 2, 'Li': 3, 'Be': 4, 'B': 5, 'C': 6, 'N': 7, 'O': 8, 'F': 9, 'Ne': 10, 'Na': 11, 'Mi': 12, 'Al': 13, 'Si': 14, 'P': 15, 'S': 16, 'Cl': 17, 'Ar': 18, 'K': 19, 'Ca': 20}\n"
     ]
    }
   ],
   "source": [
    "sen04 = \"Hi He Lied Because Boron Could Not Oxidize Fluorine. New Nations Might Also Sign Peace Security Clause. Arthur King Can.\"\n",
    "\n",
    "#句読点の除去\n",
    "alphasen04 = sen04.replace(\",\",\"\").replace(\".\",\"\")\n",
    "\n",
    "wordlist04 = alphasen04.split()\n",
    "singles04 = [1,5,6,7,8,9,15,16,19]\n",
    "result04 = {}\n",
    "\n",
    "for i in range(len(wordlist04)):\n",
    "    if i+1 in singles04:\n",
    "        key = wordlist04[i][0:1]\n",
    "    else:\n",
    "        key = wordlist04[i][0:2]\n",
    "    result04[key] = i+1\n",
    "\n",
    "print(result04)"
   ]
  },
  {
   "cell_type": "markdown",
   "metadata": {},
   "source": [
    "#### qiitaの答え\n",
    "```\n",
    "# coding: utf-8\n",
    "num_first_only = (1, 5, 6, 7, 8, 9, 15, 16, 19)\n",
    "target = 'Hi He Lied Because Boron Could Not Oxidize Fluorine. New Nations Might Also Sign Peace Security Clause. Arthur King Can.'\n",
    "result = {}\n",
    "\n",
    "words = target.split(' ')\n",
    "for (num, word) in enumerate(words, 1):\n",
    "    if num in num_first_only:\n",
    "        result[word[0:1]] = num\n",
    "    else:\n",
    "        result[word[0:2]] = num\n",
    "\n",
    "print(result)\n",
    "```"
   ]
  },
  {
   "cell_type": "markdown",
   "metadata": {},
   "source": [
    "## 05. n-gram"
   ]
  },
  {
   "cell_type": "markdown",
   "metadata": {},
   "source": [
    "与えられたシーケンス（文字列やリストなど）からn-gramを作る関数を作成せよ．この関数を用い，\"I am an NLPer\"という文から単語bi-gram，文字bi-gramを得よ．"
   ]
  },
  {
   "cell_type": "code",
   "execution_count": 10,
   "metadata": {},
   "outputs": [
    {
     "name": "stdout",
     "output_type": "stream",
     "text": [
      "単語bi-gram:  [['I', 'am'], ['am', 'an'], ['an', 'NLPer']]\n",
      "文字bi-gram:  ['I ', ' a', 'am', 'm ', ' a', 'an', 'n ', ' N', 'NL', 'LP', 'Pe', 'er']\n"
     ]
    }
   ],
   "source": [
    "sen05 = \"I am an NLPer\"\n",
    "sen_list05 = sen05.split(\" \")\n",
    "\n",
    "def ngram(str_or_list, n):\n",
    "    length = len(str_or_list)\n",
    "    gramlist = []\n",
    "    for i in range(length - n + 1):\n",
    "        gramlist.append(str_or_list[i:i+n])\n",
    "    return gramlist\n",
    "\n",
    "print(\"単語bi-gram: \", ngram(sen_list05, 2))\n",
    "print(\"文字bi-gram: \", ngram(sen05, 2))"
   ]
  },
  {
   "cell_type": "markdown",
   "metadata": {},
   "source": [
    "#### qiitaの答え\n",
    "```\n",
    "# coding: utf-8\n",
    "\n",
    "\n",
    "def n_gram(target, n):\n",
    "    '''指定されたリストからn-gramを作成\n",
    "\n",
    "    引数:\n",
    "    target -- 対象リスト\n",
    "    n -- n-gramのn値（1ならuni-gram、2ならbi-gram...）\n",
    "    戻り値:\n",
    "    gramのリスト\n",
    "    '''\n",
    "    result = []\n",
    "    for i in range(0, len(target) - n + 1):\n",
    "        result.append(target[i:i + n])\n",
    "\n",
    "    return result\n",
    "\n",
    "\n",
    "target = 'I am an NLPer'\n",
    "words_target = target.split(' ')\n",
    "\n",
    "# 単語bi-gram\n",
    "result = n_gram(words_target, 2)\n",
    "print(result)\n",
    "\n",
    "# 文字bi-gram\n",
    "result = n_gram(target, 2)\n",
    "print(result)\n",
    "```"
   ]
  },
  {
   "cell_type": "markdown",
   "metadata": {},
   "source": [
    "## 06. 集合"
   ]
  },
  {
   "cell_type": "markdown",
   "metadata": {},
   "source": [
    "\"paraparaparadise\"と\"paragraph\"に含まれる文字bi-gramの集合を，それぞれ, XとYとして求め，XとYの和集合，積集合，差集合を求めよ．さらに，'se'というbi-gramがXおよびYに含まれるかどうかを調べよ．"
   ]
  },
  {
   "cell_type": "code",
   "execution_count": 11,
   "metadata": {},
   "outputs": [
    {
     "name": "stdout",
     "output_type": "stream",
     "text": [
      "X:  ['is', 'ap', 'ar', 'se', 'ra', 'di', 'pa', 'ad']\n",
      "Y:  ['ph', 'ap', 'ar', 'gr', 'ag', 'ra', 'pa']\n",
      "和集合 ['ar', 'gr', 'ag', 'di', 'is', 'ap', 'ph', 'se', 'ra', 'pa', 'ad']\n",
      "積集合 ['pa', 'ap', 'ra', 'ar']\n",
      "差集合 ['is', 'ad', 'di', 'se']\n",
      "se in X:  True\n",
      "se in Y:  False\n"
     ]
    }
   ],
   "source": [
    "word06a = \"paraparaparadise\"\n",
    "word06b = \"paragraph\"\n",
    "\n",
    "listX06 = ngram(word06a, 2)\n",
    "listY06 = ngram(word06b, 2)\n",
    "\n",
    "setX06 = set(listX06)\n",
    "setY06 = set(listY06)\n",
    "\n",
    "print(\"X: \", list(setX06))\n",
    "print(\"Y: \", list(setY06))\n",
    "\n",
    "print(\"和集合\", list(setX06 | setY06))\n",
    "print(\"積集合\", list(setX06 & setY06))\n",
    "print(\"差集合\", list(setX06 - setY06))\n",
    "\n",
    "print(\"se in X: \", \"se\" in listX06)\n",
    "print(\"se in Y: \", \"se\" in listY06)"
   ]
  },
  {
   "cell_type": "markdown",
   "metadata": {},
   "source": [
    "#### qiitaの答え\n",
    "```\n",
    "# coding: utf-8\n",
    "\n",
    "\n",
    "def n_gram(target, n):\n",
    "    '''指定されたリストからn-gramを作成\n",
    "\n",
    "    引数:\n",
    "    target -- 対象リスト\n",
    "    n -- n-gramのn値（1ならuni-gram、2ならbi-gram...）\n",
    "    戻り値:\n",
    "    gramのリスト\n",
    "    '''\n",
    "    result = []\n",
    "    for i in range(0, len(target) - n + 1):\n",
    "        result.append(target[i:i + n])\n",
    "\n",
    "    return result\n",
    "\n",
    "\n",
    "# 集合の作成\n",
    "set_x = set(n_gram('paraparaparadise', 2))\n",
    "print('X:' + str(set_x))\n",
    "set_y = set(n_gram('paragraph', 2))\n",
    "print('Y:' + str(set_y))\n",
    "\n",
    "# 和集合\n",
    "set_or = set_x | set_y\n",
    "print('和集合:' + str(set_or))\n",
    "\n",
    "# 積集合\n",
    "set_and = set_x & set_y\n",
    "print('積集合:' + str(set_and))\n",
    "\n",
    "# 差集合\n",
    "set_sub = set_x - set_y\n",
    "print('差集合:' + str(set_sub))\n",
    "\n",
    "# 'se'が含まれるか？\n",
    "print('seがXに含まれる:' + str('se' in set_x))\n",
    "print('seがYに含まれる:' + str('se' in set_y))\n",
    "```"
   ]
  },
  {
   "cell_type": "markdown",
   "metadata": {},
   "source": [
    "## 07. テンプレートによる文生成"
   ]
  },
  {
   "cell_type": "markdown",
   "metadata": {},
   "source": [
    "引数x, y, zを受け取り「x時のyはz」という文字列を返す関数を実装せよ．さらに，x=12, y=\"気温\", z=22.4として，実行結果を確認せよ．"
   ]
  },
  {
   "cell_type": "code",
   "execution_count": 12,
   "metadata": {},
   "outputs": [
    {
     "name": "stdout",
     "output_type": "stream",
     "text": [
      "12時の気温は22.4\n"
     ]
    }
   ],
   "source": [
    "def makesen(x, y, z):\n",
    "    string = str(x) + \"時の\" + str(y) + \"は\" + str(z)\n",
    "    return string\n",
    "\n",
    "x07 = 12\n",
    "y07 = \"気温\"\n",
    "z07 = 22.4\n",
    "\n",
    "print(makesen(x07, y07, z07))"
   ]
  },
  {
   "cell_type": "markdown",
   "metadata": {},
   "source": [
    "#### qiitaの答え\n",
    "```\n",
    "# coding: utf-8\n",
    "\n",
    "\n",
    "def format_string(x, y, z):\n",
    "    '''引数x, y, zを受け取り「x時のyはz」という文字列を返す\n",
    "\n",
    "    引数:\n",
    "    x, y, z -- 埋め込むパラメータ\n",
    "    戻り値:\n",
    "    整形した文字列\n",
    "    '''\n",
    "    return '{hour}時の{target}は{value}'.format(hour=x, target=y, value=z)\n",
    "\n",
    "\n",
    "# テスト\n",
    "x = 12\n",
    "y = '気温'\n",
    "z = 22.4\n",
    "print(format_string(x, y, z))\n",
    "```\n",
    "\n",
    "###### もしくは\n",
    "```\n",
    "from string import Template\n",
    "\n",
    "\n",
    "def format_string(x, y, z):\n",
    "    '''引数x, y, zを受け取り「x時のyはz」という文字列を返す\n",
    "\n",
    "    引数:\n",
    "    x, y, z -- 埋め込むパラメータ\n",
    "    戻り値:\n",
    "    整形した文字列\n",
    "    '''\n",
    "    s = Template('$hour時の$targetは$value')\n",
    "    return s.substitute(hour=x, target=y, value=z)\n",
    "```"
   ]
  },
  {
   "cell_type": "markdown",
   "metadata": {},
   "source": [
    "## 08. 暗号文"
   ]
  },
  {
   "cell_type": "markdown",
   "metadata": {},
   "source": [
    "与えられた文字列の各文字を，以下の仕様で変換する関数cipherを実装せよ．\n",
    "\n",
    "- 英小文字ならば(219 - 文字コード)の文字に置換\n",
    "- その他の文字はそのまま出力\n",
    "\n",
    "この関数を用い，英語のメッセージを暗号化・復号化せよ．"
   ]
  },
  {
   "cell_type": "code",
   "execution_count": 13,
   "metadata": {},
   "outputs": [
    {
     "name": "stdout",
     "output_type": "stream",
     "text": [
      "暗号化:  sltvsltv\n",
      "復号化:  hogehoge\n"
     ]
    }
   ],
   "source": [
    "##import sys\n",
    "\n",
    "def cipher(char):\n",
    "    if char.isalpha() & char.islower():\n",
    "        code = ord(char)\n",
    "        result = chr(219 - code)\n",
    "    else:\n",
    "        result = char\n",
    "    return result\n",
    "\n",
    "##message = sys.argv[1]\n",
    "\n",
    "message08 = \"hogehoge\"\n",
    "\n",
    "result08a = \"\"\n",
    "for char in message08:\n",
    "    result08a += cipher(char)\n",
    "\n",
    "print(\"暗号化: \", result08a)\n",
    "\n",
    "result08b = \"\"\n",
    "for char in result08a:\n",
    "    result08b += cipher(char)\n",
    "\n",
    "print(\"復号化: \", result08b)"
   ]
  },
  {
   "cell_type": "markdown",
   "metadata": {},
   "source": [
    "#### qiitaの答え\n",
    "```\n",
    "# coding: utf-8\n",
    "\n",
    "\n",
    "def cipher(target):\n",
    "    '''文字列の暗号化、復号化\n",
    "    以下の仕様で文字列を変換する\n",
    "    ・英小文字ならば(219 - 文字コード)の文字に置換\n",
    "    ・その他の文字はそのまま出力\n",
    "\n",
    "    引数:\n",
    "    target -- 対象の文字列\n",
    "    戻り値:\n",
    "    変換した文字列\n",
    "    '''\n",
    "    result = ''\n",
    "    for c in target:\n",
    "        if c.islower():\n",
    "            result += chr(219 - ord(c))\n",
    "        else:\n",
    "            result += c\n",
    "    return result\n",
    "\n",
    "\n",
    "# 対象文字列の入力\n",
    "target = input('文字列を入力してください--> ')\n",
    "\n",
    "# 暗号化\n",
    "result = cipher(target)\n",
    "print('暗号化:' + result)\n",
    "\n",
    "# 復号化\n",
    "result2 = cipher(result)\n",
    "print('復号化:' + result2)\n",
    "\n",
    "# 復号化で元に戻っているかチェック\n",
    "if result2 != target:\n",
    "    print('元に戻っていない！？')\n",
    "```"
   ]
  },
  {
   "cell_type": "markdown",
   "metadata": {},
   "source": [
    "## 09. Typoglycemia"
   ]
  },
  {
   "cell_type": "markdown",
   "metadata": {},
   "source": [
    "スペースで区切られた単語列に対して，各単語の先頭と末尾の文字は残し，それ以外の文字の順序をランダムに並び替えるプログラムを作成せよ．ただし，長さが４以下の単語は並び替えないこととする．適当な英語の文（例えば\"I couldn't believe that I could actually understand what I was reading : the phenomenal power of the human mind .\"）を与え，その実行結果を確認せよ．"
   ]
  },
  {
   "cell_type": "code",
   "execution_count": 14,
   "metadata": {},
   "outputs": [
    {
     "name": "stdout",
     "output_type": "stream",
     "text": [
      "I cu'ldont biveele that I cloud aalutcly unetdnrasd what I was rneiadg : the peomhennal poewr of the hamun mind\n"
     ]
    }
   ],
   "source": [
    "import random\n",
    "sen09 = \"I couldn't believe that I could actually understand what I was reading : the phenomenal power of the human mind .\"\n",
    "wordlist09 = sen09.split()\n",
    "\n",
    "result_sen09 = \"\"\n",
    "num09 = 0\n",
    "for word in wordlist09:\n",
    "    if len(word) > 4:\n",
    "        shuff = word[1:len(word)-1]\n",
    "        shuff = \"\".join(random.sample(shuff, len(word)-2))\n",
    "        nextword = (word[0] + shuff + word[len(word)-1])\n",
    "        result_sen09 += nextword\n",
    "    else:\n",
    "        result_sen09 += word\n",
    "    num09 += 1\n",
    "    if num09 == len(wordlist09)-1:\n",
    "        break\n",
    "    result_sen09 += \" \"\n",
    "\n",
    "print(result_sen09)"
   ]
  },
  {
   "cell_type": "markdown",
   "metadata": {},
   "source": [
    "#### qiitaの答え\n",
    "```\n",
    "# coding: utf-8\n",
    "import random\n",
    "\n",
    "\n",
    "def Typoglycemia(target):\n",
    "    '''タイポグリセミア\n",
    "    スペースで区切られた単語列に対して、各単語の先頭と末尾の文字は残し、\n",
    "    それ以外の文字の順序をランダムに並び替える。\n",
    "    ただし、長さが４以下の単語は並び替えない。\n",
    "\n",
    "    引数:\n",
    "    target -- 対象の文字列\n",
    "    戻り値:\n",
    "    変換した文字列\n",
    "    '''\n",
    "    result = []\n",
    "    for word in target.split(' '):\n",
    "        if len(word) <= 4:\n",
    "            result.append(word)\n",
    "        else:\n",
    "            chr_list = list(word[1:-1])\n",
    "            random.shuffle(chr_list)\n",
    "            result.append(word[0] + ''.join(chr_list) + word[-1])\n",
    "\n",
    "    return ' '.join(result)\n",
    "\n",
    "# 対象文字列の入力\n",
    "target = input('文字列を入力してください--> ')\n",
    "\n",
    "# タイポグリセミア\n",
    "result = Typoglycemia(target)\n",
    "print('変換結果:' + result)\n",
    "```"
   ]
  }
 ],
 "metadata": {
  "kernelspec": {
   "display_name": "Python 3",
   "language": "python",
   "name": "python3"
  },
  "language_info": {
   "codemirror_mode": {
    "name": "ipython",
    "version": 3
   },
   "file_extension": ".py",
   "mimetype": "text/x-python",
   "name": "python",
   "nbconvert_exporter": "python",
   "pygments_lexer": "ipython3",
   "version": "3.6.1"
  }
 },
 "nbformat": 4,
 "nbformat_minor": 2
}
