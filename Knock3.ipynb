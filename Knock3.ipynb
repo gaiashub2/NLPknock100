{
 "cells": [
  {
   "cell_type": "markdown",
   "metadata": {},
   "source": [
    "# 第3章: 正規表現 "
   ]
  },
  {
   "cell_type": "markdown",
   "metadata": {},
   "source": [
    "Wikipediaの記事を以下のフォーマットで書き出したファイル[jawiki-country.json.gz](http://www.cl.ecei.tohoku.ac.jp/nlp100/data/jawiki-country.json.gz)がある．\n",
    "\n",
    "- 1行に1記事の情報がJSON形式で格納される\n",
    "- 各行には記事名が\"title\"キーに，記事本文が\"text\"キーの辞書オブジェクトに格納され，そのオブジェクトがJSON形式で書き出される\n",
    "- ファイル全体はgzipで圧縮される\n",
    "\n",
    "以下の処理を行うプログラムを作成せよ．"
   ]
  },
  {
   "cell_type": "markdown",
   "metadata": {},
   "source": [
    "## 参考（pythonでの正規表現の扱い：reモジュール）"
   ]
  },
  {
   "cell_type": "markdown",
   "metadata": {},
   "source": [
    "詳しくは、[http://docs.python.jp/3/library/re.html#module-re](http://docs.python.jp/3/library/re.html#module-re)を参照"
   ]
  },
  {
   "cell_type": "markdown",
   "metadata": {},
   "source": [
    "## 20. JSONデータの読み込み"
   ]
  },
  {
   "cell_type": "markdown",
   "metadata": {},
   "source": [
    "Wikipedia記事のJSONファイルを読み込み，「イギリス」に関する記事本文を表示せよ．問題21-29では，ここで抽出した記事本文に対して実行せよ．"
   ]
  },
  {
   "cell_type": "code",
   "execution_count": null,
   "metadata": {},
   "outputs": [],
   "source": [
    "%%bash\n",
    "wget http://www.cl.ecei.tohoku.ac.jp/nlp100/data/jawiki-country.json.gz"
   ]
  },
  {
   "cell_type": "code",
   "execution_count": null,
   "metadata": {
    "collapsed": true
   },
   "outputs": [],
   "source": [
    "%%bash\n",
    "gzip -d jawiki-country.json.gz"
   ]
  },
  {
   "cell_type": "code",
   "execution_count": null,
   "metadata": {},
   "outputs": [],
   "source": [
    "%%bash\n",
    "head jawiki-country.json"
   ]
  },
  {
   "cell_type": "code",
   "execution_count": null,
   "metadata": {},
   "outputs": [],
   "source": [
    "import json\n",
    "\n",
    "with open(\"jawiki-country.json\") as datafile:\n",
    "    for line in datafile:\n",
    "        json_data = json.loads(line)\n",
    "        #print(json_data[\"title\"])\n",
    "        if json_data[\"title\"] == \"イギリス\":\n",
    "            #print(\"hoge!!!\")\n",
    "            print(json_data[\"text\"])"
   ]
  },
  {
   "cell_type": "markdown",
   "metadata": {},
   "source": [
    "#### qiitaの答え\n",
    "```\n",
    "# coding: utf-8\n",
    "import gzip\n",
    "import json\n",
    "fname = 'jawiki-country.json.gz'\n",
    "\n",
    "with gzip.open(fname, 'rt') as data_file:\n",
    "    for line in data_file:\n",
    "        data_json = json.loads(line)\n",
    "        if data_json['title'] == 'イギリス':\n",
    "            print(data_json['text'])\n",
    "            break\n",
    "```"
   ]
  },
  {
   "cell_type": "markdown",
   "metadata": {},
   "source": [
    "## 21. カテゴリ名を含む行を抽出"
   ]
  },
  {
   "cell_type": "markdown",
   "metadata": {},
   "source": [
    "記事中でカテゴリ名を宣言している行を抽出せよ．"
   ]
  },
  {
   "cell_type": "code",
   "execution_count": null,
   "metadata": {},
   "outputs": [],
   "source": [
    "import json\n",
    "\n",
    "def getEnglandJson():\n",
    "    with open(\"jawiki-country.json\") as datafile:\n",
    "        for line in datafile:\n",
    "            json_data = json.loads(line)\n",
    "            if json_data[\"title\"] == \"イギリス\":\n",
    "                return json_data[\"text\"]\n",
    "\n",
    "print(getEnglandJson())"
   ]
  },
  {
   "cell_type": "code",
   "execution_count": null,
   "metadata": {},
   "outputs": [],
   "source": [
    "row_list21 = getEnglandJson().split(\"\\n\")\n",
    "print(len(row_list21))\n",
    "for row in row_list21:\n",
    "    if row[0:11] == \"[[Category:\":\n",
    "        print(row)"
   ]
  },
  {
   "cell_type": "markdown",
   "metadata": {},
   "source": [
    "#### qiitaの答え\n",
    "```\n",
    "# coding: utf-8\n",
    "import gzip\n",
    "import json\n",
    "import re\n",
    "fname = 'jawiki-country.json.gz'\n",
    "\n",
    "\n",
    "def extract_UK():\n",
    "    '''イギリスに関する記事本文を取得\n",
    "\n",
    "    戻り値：\n",
    "    イギリスの記事本文\n",
    "    '''\n",
    "\n",
    "    with gzip.open(fname, 'rt') as data_file:\n",
    "        for line in data_file:\n",
    "            data_json = json.loads(line)\n",
    "            if data_json['title'] == 'イギリス':\n",
    "                return data_json['text']\n",
    "\n",
    "    raise ValueError('イギリスの記事が見つからない')\n",
    "\n",
    "\n",
    "# 正規表現のコンパイル\n",
    "pattern = re.compile(r'''\n",
    "    ^   # 行頭\n",
    "    (   # キャプチャ対象のグループ開始\n",
    "    .*  # 任意の文字0文字以上\n",
    "    \\[\\[Category:\n",
    "    .*  # 任意の文字0文字以上\n",
    "    \\]\\]\n",
    "    .*  # 任意の文字0文字以上\n",
    "    )   # グループ終了\n",
    "    $   # 行末\n",
    "    ''', re.MULTILINE + re.VERBOSE)\n",
    "\n",
    "# 抽出\n",
    "result = pattern.findall(extract_UK())\n",
    "\n",
    "# 結果表示\n",
    "for line in result:\n",
    "    print(line)\n",
    "```"
   ]
  },
  {
   "cell_type": "markdown",
   "metadata": {},
   "source": [
    "## 22. カテゴリ名の抽出"
   ]
  },
  {
   "cell_type": "markdown",
   "metadata": {},
   "source": [
    "記事のカテゴリ名を（行単位ではなく名前で）抽出せよ．"
   ]
  },
  {
   "cell_type": "code",
   "execution_count": null,
   "metadata": {},
   "outputs": [],
   "source": [
    "import re\n",
    "\n",
    "pattern22 = re.compile(r'^.*\\[\\[Category:(.*)\\]\\].*$', re.MULTILINE + re.VERBOSE)\n",
    "result22 = pattern22.findall(getEnglandJson())\n",
    "\n",
    "for line in result22:\n",
    "    print(line)"
   ]
  },
  {
   "cell_type": "markdown",
   "metadata": {},
   "source": [
    "#### qiitaの答え\n",
    "```\n",
    "# 正規表現のコンパイル\n",
    "pattern = re.compile(r'''\n",
    "    ^       # 行頭\n",
    "    .*      # 任意の文字0文字以上\n",
    "    \\[\\[Category:\n",
    "    (       # キャプチャ対象のグループ開始\n",
    "    .*?     # 任意の文字0文字以上、非貪欲マッチ（貪欲にすると後半の'|'で始まる装飾を巻き込んでしまう）\n",
    "    )       # グループ終了\n",
    "    (?:     # キャプチャ対象外のグループ開始\n",
    "    \\|.*    # '|'に続く0文字以上\n",
    "    )?      # グループ終了、0か1回の出現\n",
    "    \\]\\]\n",
    "    .*      # 任意の文字0文字以上\n",
    "    $       # 行末\n",
    "    ''', re.MULTILINE + re.VERBOSE)\n",
    "\n",
    "# 抽出\n",
    "result = pattern.findall(extract_UK())\n",
    "\n",
    "# 結果表示\n",
    "for line in result:\n",
    "    print(line)\n",
    "```\n",
    "\n",
    "###### または\n",
    "\n",
    "```\n",
    "# 正規表現のコンパイル その2\n",
    "pattern = re.compile(r'''\n",
    "    ^       # 行頭\n",
    "    .*      # 任意の文字0文字以上\n",
    "    \\[\\[Category:\n",
    "    (.*?)   # キャプチャ対象、任意の文字0文字以上、非貪欲マッチ\n",
    "    (?:\\]\\]|\\|) # キャプチャ対象外、']]'または'|'\n",
    "    .*      # 任意の文字0文字以上\n",
    "    $       # 行末\n",
    "    ''', re.MULTILINE + re.VERBOSE)\n",
    "```"
   ]
  },
  {
   "cell_type": "markdown",
   "metadata": {},
   "source": [
    "## 23. セクション構造"
   ]
  },
  {
   "cell_type": "markdown",
   "metadata": {},
   "source": [
    "記事中に含まれるセクション名とそのレベル（例えば\"== セクション名 ==\"なら1）を表示せよ．"
   ]
  },
  {
   "cell_type": "code",
   "execution_count": null,
   "metadata": {
    "scrolled": true
   },
   "outputs": [],
   "source": [
    "import json\n",
    "import re\n",
    "\n",
    "pattern23 = re.compile(r'^(==+.+==+).*$', re.MULTILINE + re.VERBOSE)\n",
    "result23 = pattern23.findall(getEnglandJson())\n",
    "\n",
    "for line in result23:\n",
    "    temp = line[1:]\n",
    "    level = 0\n",
    "    while temp[0] == \"=\":\n",
    "        level += 1\n",
    "        temp = temp[1:]\n",
    "    print(line, level)"
   ]
  },
  {
   "cell_type": "markdown",
   "metadata": {},
   "source": [
    "#### qiitaの答え\n",
    "```\n",
    "# 正規表現のコンパイル\n",
    "pattern = re.compile(r'''\n",
    "    ^       # 行頭\n",
    "    (={2,}) # キャプチャ対象、2個以上の'='\n",
    "    \\s*     # 余分な0個以上の空白（'哲学'や'婚姻'の前後に余分な空白があるので除去）\n",
    "    (.+?)   # キャプチャ対象、任意の文字が1文字以上、非貪欲（以降の条件の巻き込み防止）\n",
    "    \\s*     # 余分な0個以上の空白\n",
    "    \\1      # 後方参照、1番目のキャプチャ対象と同じ内容\n",
    "    .*      # 任意の文字が0文字以上\n",
    "    $       # 行末\n",
    "    ''', re.MULTILINE + re.VERBOSE)\n",
    "\n",
    "# 抽出\n",
    "result = pattern.findall(extract_UK())\n",
    "\n",
    "# 結果表示\n",
    "for line in result:\n",
    "    level = len(line[0]) - 1    # '='の数-1\n",
    "    print('{indent}{sect}({level})'.format(\n",
    "        indent='\\t' * (level - 1), sect=line[1], level=level))\n",
    "```"
   ]
  },
  {
   "cell_type": "markdown",
   "metadata": {},
   "source": [
    "## 24. ファイル参照の抽出"
   ]
  },
  {
   "cell_type": "markdown",
   "metadata": {},
   "source": [
    "記事から参照されているメディアファイルをすべて抜き出せ．"
   ]
  },
  {
   "cell_type": "code",
   "execution_count": null,
   "metadata": {},
   "outputs": [],
   "source": [
    "print(getEnglandJson())"
   ]
  },
  {
   "cell_type": "code",
   "execution_count": null,
   "metadata": {
    "scrolled": true
   },
   "outputs": [],
   "source": [
    "import json\n",
    "import re\n",
    "\n",
    "pattern24 = re.compile(r'.*(?:File|ファイル):(.+?)\\|.*', re.MULTILINE + re.VERBOSE)\n",
    "result24 = pattern24.findall(getEnglandJson())\n",
    "\n",
    "for line in result24:\n",
    "    print(line)"
   ]
  },
  {
   "cell_type": "markdown",
   "metadata": {},
   "source": [
    "#### qiitaの答え\n",
    "```\n",
    "# 正規表現のコンパイル\n",
    "pattern = re.compile(r'''\n",
    "    (?:File|ファイル)   # 非キャプチャ、'File'か'ファイル'\n",
    "    :\n",
    "    (.+?)   # キャプチャ対象、任意の文字1文字以上、非貪欲\n",
    "    \\|\n",
    "    ''', re.VERBOSE)\n",
    "\n",
    "# 抽出\n",
    "result = pattern.findall(extract_UK())\n",
    "\n",
    "# 結果表示\n",
    "for line in result:\n",
    "    print(line)\n",
    "```"
   ]
  },
  {
   "cell_type": "markdown",
   "metadata": {},
   "source": [
    "## 25. テンプレートの抽出"
   ]
  },
  {
   "cell_type": "markdown",
   "metadata": {},
   "source": [
    "記事中に含まれる「基礎情報」テンプレートのフィールド名と値を抽出し，辞書オブジェクトとして格納せよ．"
   ]
  },
  {
   "cell_type": "code",
   "execution_count": null,
   "metadata": {},
   "outputs": [],
   "source": [
    "print(getEnglandJson())"
   ]
  },
  {
   "cell_type": "code",
   "execution_count": null,
   "metadata": {},
   "outputs": [],
   "source": [
    "import json\n",
    "import re\n",
    "\n",
    "pattern25 = re.compile(r'^.*(\\{\\{基礎情報.*\\n\\}\\})$', re.DOTALL + re.MULTILINE)\n",
    "\n",
    "kiso_joho = pattern25.findall(getEnglandJson())\n",
    "\n",
    "#print(type(kiso_joho[0]))\n",
    "#print(kiso_joho[0])\n",
    "\n",
    "rows = kiso_joho[0].split(\"\\n\")\n",
    "#print(rows)\n",
    "\n",
    "kiso_dict = {}\n",
    "#print(kiso_dict.keys)\n",
    "#print(kiso_dict.items)\n",
    "\n",
    "for row in rows:\n",
    "    pattern = re.compile(\"\\|(.*) = (.*)\")\n",
    "    result = pattern.findall(row)\n",
    "    if len(result) > 0:\n",
    "        kiso_dict[result[0][0]] = result[0][1]\n",
    "    else:\n",
    "        continue\n",
    "print(kiso_dict)\n",
    "for key in kiso_dict.keys():\n",
    "    print(key)"
   ]
  },
  {
   "cell_type": "markdown",
   "metadata": {},
   "source": [
    "#### qiitaの答え\n",
    "```\n",
    "# 基礎情報テンプレートの抽出条件のコンパイル\n",
    "pattern = re.compile(r'''\n",
    "    ^\\{\\{基礎情報.*?$   # '{{基礎情報'で始まる行\n",
    "    (.*?)       # キャプチャ対象、任意の0文字以上、非貪欲\n",
    "    ^\\}\\}$      # '}}'の行\n",
    "    ''', re.MULTILINE + re.VERBOSE + re.DOTALL)\n",
    "\n",
    "# 基礎情報テンプレートの抽出\n",
    "contents = pattern.findall(extract_UK())\n",
    "\n",
    "# 抽出結果からのフィールド名と値の抽出条件コンパイル\n",
    "pattern = re.compile(r'''\n",
    "    ^\\|         # '|'で始まる行\n",
    "    (.+?)       # キャプチャ対象（フィールド名）、任意の1文字以上、非貪欲\n",
    "    \\s*         # 空白文字0文字以上\n",
    "    =\n",
    "    \\s*         # 空白文字0文字以上\n",
    "    (.+?)       # キャプチャ対象（値）、任意の1文字以上、非貪欲\n",
    "    (?:         # キャプチャ対象外のグループ開始\n",
    "        (?=\\n\\|)    # 改行+'|'の手前（肯定の先読み）\n",
    "        | (?=\\n$)   # または、改行+終端の手前（肯定の先読み）\n",
    "    )           # グループ終了\n",
    "    ''', re.MULTILINE + re.VERBOSE + re.DOTALL)\n",
    "\n",
    "# フィールド名と値の抽出\n",
    "fields = pattern.findall(contents[0])\n",
    "\n",
    "# 辞書にセット\n",
    "result = {}\n",
    "keys_test = []      # 確認用の出現順フィールド名リスト\n",
    "for field in fields:\n",
    "    result[field[0]] = field[1]\n",
    "    keys_test.append(field[0])\n",
    "\n",
    "# 確認のため表示（確認しやすいようにkeys_testを使ってフィールド名の出現順にソート）\n",
    "for item in sorted(result.items(),\n",
    "        key=lambda field: keys_test.index(field[0])):\n",
    "    print(item)\n",
    "```"
   ]
  },
  {
   "cell_type": "markdown",
   "metadata": {},
   "source": [
    "## 26. 強調マークアップの除去"
   ]
  },
  {
   "cell_type": "markdown",
   "metadata": {},
   "source": [
    "25の処理時に，テンプレートの値からMediaWikiの強調マークアップ（弱い強調，強調，強い強調のすべて）を除去してテキストに変換せよ（参考: [マークアップ早見表](http://ja.wikipedia.org/wiki/Help:%E6%97%A9%E8%A6%8B%E8%A1%A8)）．"
   ]
  },
  {
   "cell_type": "code",
   "execution_count": null,
   "metadata": {
    "collapsed": true
   },
   "outputs": [],
   "source": []
  },
  {
   "cell_type": "markdown",
   "metadata": {},
   "source": [
    "#### qiitaの答え\n",
    "```\n",
    "# coding: utf-8\n",
    "\n",
    "fname = 'hightemp.txt'\n",
    "count = 0\n",
    "with open(fname) as data_file:\n",
    "    for line in data_file:\n",
    "        count += 1\n",
    "print(count)\n",
    "```"
   ]
  },
  {
   "cell_type": "markdown",
   "metadata": {},
   "source": [
    "## 27. 内部リンクの除去"
   ]
  },
  {
   "cell_type": "markdown",
   "metadata": {},
   "source": [
    "26の処理に加えて，テンプレートの値からMediaWikiの内部リンクマークアップを除去し，テキストに変換せよ（参考: [マークアップ早見表](http://ja.wikipedia.org/wiki/Help:%E6%97%A9%E8%A6%8B%E8%A1%A8)）．"
   ]
  },
  {
   "cell_type": "markdown",
   "metadata": {},
   "source": [
    "#### qiitaの答え\n",
    "```\n",
    "# coding: utf-8\n",
    "\n",
    "fname = 'hightemp.txt'\n",
    "count = 0\n",
    "with open(fname) as data_file:\n",
    "    for line in data_file:\n",
    "        count += 1\n",
    "print(count)\n",
    "```"
   ]
  },
  {
   "cell_type": "markdown",
   "metadata": {},
   "source": [
    "## 28. MediaWikiマークアップの除去"
   ]
  },
  {
   "cell_type": "markdown",
   "metadata": {},
   "source": [
    "27の処理に加えて，テンプレートの値からMediaWikiマークアップを可能な限り除去し，国の基本情報を整形せよ．"
   ]
  },
  {
   "cell_type": "markdown",
   "metadata": {},
   "source": [
    "#### qiitaの答え\n",
    "```\n",
    "# coding: utf-8\n",
    "\n",
    "fname = 'hightemp.txt'\n",
    "count = 0\n",
    "with open(fname) as data_file:\n",
    "    for line in data_file:\n",
    "        count += 1\n",
    "print(count)\n",
    "```"
   ]
  },
  {
   "cell_type": "markdown",
   "metadata": {},
   "source": [
    "## 29. 国旗画像のURLを取得する"
   ]
  },
  {
   "cell_type": "markdown",
   "metadata": {},
   "source": [
    "テンプレートの内容を利用し，国旗画像のURLを取得せよ．（ヒント: [MediaWiki](http://www.mediawiki.org/wiki/API:Main_page/ja) APIの[imageinfo](http://www.mediawiki.org/wiki/API:Properties/ja#imageinfo_.2F_ii)を呼び出して，ファイル参照をURLに変換すればよい）"
   ]
  },
  {
   "cell_type": "markdown",
   "metadata": {},
   "source": [
    "#### qiitaの答え\n",
    "```\n",
    "# coding: utf-8\n",
    "\n",
    "fname = 'hightemp.txt'\n",
    "count = 0\n",
    "with open(fname) as data_file:\n",
    "    for line in data_file:\n",
    "        count += 1\n",
    "print(count)\n",
    "```"
   ]
  }
 ],
 "metadata": {
  "kernelspec": {
   "display_name": "Python 3",
   "language": "python",
   "name": "python3"
  },
  "language_info": {
   "codemirror_mode": {
    "name": "ipython",
    "version": 3
   },
   "file_extension": ".py",
   "mimetype": "text/x-python",
   "name": "python",
   "nbconvert_exporter": "python",
   "pygments_lexer": "ipython3",
   "version": "3.6.1"
  }
 },
 "nbformat": 4,
 "nbformat_minor": 2
}
